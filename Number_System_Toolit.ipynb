{
 "cells": [
  {
   "cell_type": "markdown",
   "id": "c2e10989",
   "metadata": {},
   "source": [
    "# Number Systems Toolkit \n",
    "\n",
    "This project demonstrates understanding in number systems ans=d their digital representations. It covers:\n",
    "- Decimal--> Binary, Octal, Hexadecimal\n",
    "- Two's Complement Encoding\n",
    "- Sign Magnitude Encoding\n",
    "- Fixed point Representation\n",
    "- IEEE-754 floating point format \n"
   ]
  },
  {
   "cell_type": "markdown",
   "id": "5742bf73",
   "metadata": {},
   "source": []
  },
  {
   "cell_type": "markdown",
   "id": "9e1048f4",
   "metadata": {},
   "source": [
    "## Section 1: Base Conversions"
   ]
  },
  {
   "cell_type": "code",
   "execution_count": 1,
   "id": "a5e9a235",
   "metadata": {},
   "outputs": [],
   "source": [
    "def to_base(n, base, bits = None):\n",
    "\tdigits = \"0123456789ABCDEFGHIJKLMNOPQRSTUVWXYZ\"\n",
    "\n",
    "\t# Solving for negative case eg -4 can be stored as 2^8 - 4 in octal\n",
    "\tif bits is not None and n < 0:\n",
    "\t\tn = (1 << bits) + n\n",
    "  # if n is zero \n",
    "\tif n == 0:\n",
    "\t\treturn '0'\n",
    "\t\n",
    "\tresult = \"\"\n",
    "\twhile n > 0:\n",
    "\t\tresult = digits[n % base] + result\n",
    "\t\tn = n // base\n",
    "\t\n",
    "\tif bits:\n",
    "\t\treturn result.zfill(bits)\n",
    "\treturn result\n",
    "#  To convert a base-X number string to decimal integer\n",
    "def from_base(s, base):\n",
    "\treturn int(s, base)"
   ]
  },
  {
   "cell_type": "code",
   "execution_count": 2,
   "id": "2a3a622e",
   "metadata": {},
   "outputs": [
    {
     "name": "stdout",
     "output_type": "stream",
     "text": [
      "from decimal 37 to binary  100101\n",
      "From Decimal 37 to hexadecimal 25\n",
      " decimal -5 two 8 bit two complements 11111011\n",
      "Binary 100101 to decimal  37\n",
      "hex 25 to decimal 37\n"
     ]
    }
   ],
   "source": [
    "#From Decimal to other bases\n",
    "print(\"from decimal 37 to binary \", to_base(37, 2))\n",
    "print(\"From Decimal 37 to hexadecimal\", to_base(37, 16))\n",
    "print(\" decimal -5 two 8 bit two complements\", to_base(-5, 2, 8))\n",
    "\n",
    "#From Base to Decimal\n",
    "print(\"Binary 100101 to decimal \", from_base('100101' , 2))\n",
    "print(\"hex 25 to decimal\", from_base('25', 16))\n"
   ]
  },
  {
   "cell_type": "markdown",
   "id": "4f660f70",
   "metadata": {},
   "source": [
    "### Section 1 Summary:\n",
    "In this section I learned how to convert between decimal, binary and hexadecimal using the base conversion logic in which i also implemented the two's complement encoding to represent negative numbers in a binary form with specified 8 bit width"
   ]
  },
  {
   "cell_type": "markdown",
   "id": "64348e23",
   "metadata": {},
   "source": [
    "## Section 2:- Two's complement vs Sign-Magnitude encoding"
   ]
  },
  {
   "cell_type": "code",
   "execution_count": 3,
   "id": "598a0145",
   "metadata": {},
   "outputs": [
    {
     "name": "stdout",
     "output_type": "stream",
     "text": [
      "Sign-magnitude of -5 (8-bit): 10000101\n",
      "Sign-magnitude of 5 (8-bit): 00000101\n",
      "Decoded '10000101' → -5\n",
      "Decoded '00000101' → 5\n"
     ]
    }
   ],
   "source": [
    "def to_sign_magnitude(n, bits=8):\n",
    "    if abs(n) >= 2**(bits - 1):\n",
    "        raise ValueError(f\"Number out of range for {bits}-bit representation.\")\n",
    "    \n",
    "    sign_bit = '0' if n >= 0 else '1'\n",
    "    magnitude = bin(abs(n))[2:].zfill(bits - 1)  # This convert abs(n) to binary to (bits - 1)\n",
    "    return sign_bit + magnitude\n",
    "\n",
    "\n",
    "def from_sign_magnitude(binary_str):\n",
    "    sign = -1 if binary_str[0] == '1' else 1\n",
    "    magnitude = int(binary_str[1:], 2)\n",
    "    return sign * magnitude\n",
    "\n",
    "# Test Cases \n",
    "print(\"Sign-magnitude of -5 (8-bit):\", to_sign_magnitude(-5, bits=8))\n",
    "print(\"Sign-magnitude of 5 (8-bit):\", to_sign_magnitude(5, bits=8))\n",
    "print(\"Decoded '10000101' →\", from_sign_magnitude(\"10000101\"))\n",
    "print(\"Decoded '00000101' →\", from_sign_magnitude(\"00000101\"))\n",
    "\n",
    "\n"
   ]
  },
  {
   "cell_type": "markdown",
   "id": "fc48d488",
   "metadata": {},
   "source": [
    "### Summary of Section 2:-\n",
    "In this section i compared the two'complement and sign magnitude encoding from which i learned why two complement is widely used because of the fact that it makes logic much more simpler and also helps in efficent hardware implementation so this is why this method is widely used."
   ]
  },
  {
   "cell_type": "markdown",
   "id": "2ec9bd6e",
   "metadata": {},
   "source": [
    "## Section 3:- Fixed Point representation\n"
   ]
  },
  {
   "cell_type": "code",
   "execution_count": 4,
   "id": "d4c16361",
   "metadata": {},
   "outputs": [
    {
     "name": "stdout",
     "output_type": "stream",
     "text": [
      "12.75  0000110011000000\n",
      "Q8.8  12.75\n",
      "-3.5  1111110010000000\n",
      "Q8.8  -3.5\n"
     ]
    }
   ],
   "source": [
    "def float_to_q8_8(x): # to convert float to q8.8 format\n",
    "\tscaled = int(round(x * 256)) # Firstly we round off the number and multiply it by 2^8 which 256\n",
    "\tif scaled < 0:\n",
    "\t\tscaled = (1 << 16) + scaled\n",
    "\treturn format(scaled, '016b')\n",
    "\n",
    "\n",
    "def q8_to_float(binary_str):# To convert q8.8 to binary format\n",
    "\traw = int(binary_str, 2)\n",
    "\n",
    "\tif raw >= (1 << 15): # for the case of negative\n",
    "\t\traw -= (1 << 16)\n",
    "\treturn raw / 256 # to scale it back as we multiplied by 256 first \n",
    "\n",
    "print(\"12.75 \", float_to_q8_8(12.75))\n",
    "print(\"Q8.8 \", q8_to_float('0000110011000000'))\n",
    "\n",
    "print(\"-3.5 \", float_to_q8_8(-3.5))\n",
    "print(\"Q8.8 \", q8_to_float('1111110010000000'))\n"
   ]
  },
  {
   "cell_type": "markdown",
   "id": "4efb053a",
   "metadata": {},
   "source": [
    "### Summary:-\n",
    "In this section i did Q8.8 fixed point encoding and decoding. This is widely used to encode or decode float value to binary form it is bassically an extension of two's complement as it just double of the previous one.It is used in low level systems where floating point is too slow or unavailable."
   ]
  },
  {
   "cell_type": "markdown",
   "id": "a36721c4",
   "metadata": {},
   "source": [
    "## Section 4:- Bitwise Operations and Logic gates\n"
   ]
  },
  {
   "cell_type": "code",
   "execution_count": 5,
   "id": "84ceefcc",
   "metadata": {},
   "outputs": [
    {
     "name": "stdout",
     "output_type": "stream",
     "text": [
      "a   = 00001100\n",
      "b   = 00000101\n",
      "a & b =  00000100\n",
      "a | b = 00001101\n",
      "a ^ b = 00001001\n",
      "~a  = 11110011\n",
      "a << 1 =  00011000\n",
      "a >> 1 = 00000110\n"
     ]
    }
   ],
   "source": [
    "def to_bin_str(n, bits=8):\n",
    "    return format(n if n >= 0 else (1 << bits) + n, f'0{bits}b')\n",
    "\n",
    "def bitwise_and(a, b):\n",
    "    return a & b\n",
    "\n",
    "def bitwise_or(a, b):\n",
    "    return a | b\n",
    "\n",
    "def bitwise_xor(a, b):\n",
    "    return a ^ b\n",
    "\n",
    "def bitwise_not(a, bits=8):\n",
    "    return ~a & ((1 << bits) - 1)\n",
    "\n",
    "def shift_left(a, n):\n",
    "    return a << n\n",
    "\n",
    "def shift_right(a, n):\n",
    "    return a >> n\n",
    "\n",
    "a = 12  # 00001100\n",
    "b = 5   # 00000101\n",
    "\n",
    "print(\"a   =\", to_bin_str(a))\n",
    "print(\"b   =\", to_bin_str(b))\n",
    "print(\"a & b = \", to_bin_str(bitwise_and(a, b)))\n",
    "print(\"a | b =\", to_bin_str(bitwise_or(a, b)))\n",
    "print(\"a ^ b =\", to_bin_str(bitwise_xor(a, b)))\n",
    "print(\"~a  =\", to_bin_str(bitwise_not(a)))\n",
    "print(\"a << 1 = \", to_bin_str(shift_left(a, 1)))\n",
    "print(\"a >> 1 =\", to_bin_str(shift_right(a, 1)))\n"
   ]
  },
  {
   "cell_type": "markdown",
   "id": "a34662a3",
   "metadata": {},
   "source": [
    "### Summary of Section 4:-\n",
    "Here I implemented binary level logic operations using python. These operations are used in Logic Circuits, Cryptography, Low Level Optimization."
   ]
  },
  {
   "cell_type": "markdown",
   "id": "b9118913",
   "metadata": {},
   "source": [
    "# Summary for the Project:-\n",
    "This project demonstrates key understanding about the topics in MAS164 related to digital number system and data representation"
   ]
  }
 ],
 "metadata": {
  "kernelspec": {
   "display_name": "Python 3",
   "language": "python",
   "name": "python3"
  },
  "language_info": {
   "codemirror_mode": {
    "name": "ipython",
    "version": 3
   },
   "file_extension": ".py",
   "mimetype": "text/x-python",
   "name": "python",
   "nbconvert_exporter": "python",
   "pygments_lexer": "ipython3",
   "version": "3.9.6"
  }
 },
 "nbformat": 4,
 "nbformat_minor": 5
}
